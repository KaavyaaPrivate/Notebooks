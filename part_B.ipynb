{
 "cells": [
  {
   "cell_type": "code",
   "execution_count": 60,
   "metadata": {},
   "outputs": [],
   "source": [
    "import numpy as np\n",
    "\n",
    "# term-frequency matrix\n",
    "tf_mat = np.array([\n",
    "    [1, 1, 0, 0, 0, 0, 0, 0, 0],\n",
    "    [0, 0, 1, 1, 0, 0, 0, 0, 0],\n",
    "    [0, 0, 0, 0, 0, 0, 1, 1, 1],\n",
    "    [1, 0, 0, 1, 0, 0, 0, 0, 0],\n",
    "    [1, 0, 1, 0, 0, 0, 0, 0, 0],\n",
    "    [0, 0, 0, 0, 0, 0, 0, 1, 1],\n",
    "    [0, 1, 0, 0, 1, 0, 0, 0, 0],\n",
    "    [0, 1, 0, 0, 0, 0, 0, 0, 1],\n",
    "    [0, 1, 1, 2, 0, 0, 0, 0, 0],\n",
    "    [0, 1, 0, 0, 1, 0, 0, 0, 0],\n",
    "    [0, 0, 0, 0, 0, 1, 1, 1, 0],\n",
    "    [0, 1, 1, 0, 1, 0, 0, 0, 0]\n",
    "    ])"
   ]
  },
  {
   "cell_type": "code",
   "execution_count": 63,
   "metadata": {},
   "outputs": [
    {
     "name": "stdout",
     "output_type": "stream",
     "text": [
      "Using TF-IDF:\n",
      "\n",
      " [[1.5040774  1.5040774  0.         0.         0.         0.\n",
      "  0.         0.         0.        ]\n",
      " [0.         0.         1.5040774  1.5040774  0.         0.\n",
      "  0.         0.         0.        ]\n",
      " [0.         0.         0.         0.         0.         0.\n",
      "  1.09861229 1.09861229 1.09861229]\n",
      " [1.5040774  0.         0.         1.5040774  0.         0.\n",
      "  0.         0.         0.        ]\n",
      " [1.5040774  0.         1.5040774  0.         0.         0.\n",
      "  0.         0.         0.        ]\n",
      " [0.         0.         0.         0.         0.         0.\n",
      "  0.         1.5040774  1.5040774 ]\n",
      " [0.         1.5040774  0.         0.         1.5040774  0.\n",
      "  0.         0.         0.        ]\n",
      " [0.         1.5040774  0.         0.         0.         0.\n",
      "  0.         0.         1.5040774 ]\n",
      " [0.         1.09861229 1.09861229 2.19722458 0.         0.\n",
      "  0.         0.         0.        ]\n",
      " [0.         1.5040774  0.         0.         1.5040774  0.\n",
      "  0.         0.         0.        ]\n",
      " [0.         0.         0.         0.         0.         1.09861229\n",
      "  1.09861229 1.09861229 0.        ]\n",
      " [0.         1.09861229 1.09861229 0.         1.09861229 0.\n",
      "  0.         0.         0.        ]]\n"
     ]
    }
   ],
   "source": [
    "def tfidf(f):\n",
    "    \"\"\"Applies term-frequency inverse document frequency weighting.\"\"\"\n",
    "    n = np.shape(f)[1]                              # number of documents\n",
    "    chi = np.where(f==0, 0, 1)                      # binary indicator for term-frequency\n",
    "    l = np.log(n / np.sum(chi, axis=1))             # logarithmic term\n",
    "    return f * l[:, np.newaxis]                     # multiply term frequency with reshaped log term\n",
    "    \n",
    "print('Using TF-IDF:\\n\\n', tfidf(tf_mat))"
   ]
  },
  {
   "cell_type": "code",
   "execution_count": 64,
   "metadata": {},
   "outputs": [
    {
     "name": "stdout",
     "output_type": "stream",
     "text": [
      "Using LE:\n",
      "\n",
      " [[0.47448359 0.47448359 0.         0.         0.         0.\n",
      "  0.         0.         0.        ]\n",
      " [0.         0.         0.47448359 0.47448359 0.         0.\n",
      "  0.         0.         0.        ]\n",
      " [0.         0.         0.         0.         0.         0.\n",
      "  0.34657359 0.34657359 0.34657359]\n",
      " [0.47448359 0.         0.         0.47448359 0.         0.\n",
      "  0.         0.         0.        ]\n",
      " [0.47448359 0.         0.47448359 0.         0.         0.\n",
      "  0.         0.         0.        ]\n",
      " [0.         0.         0.         0.         0.         0.\n",
      "  0.         0.47448359 0.47448359]\n",
      " [0.         0.47448359 0.         0.         0.47448359 0.\n",
      "  0.         0.         0.        ]\n",
      " [0.         0.47448359 0.         0.         0.         0.\n",
      "  0.         0.         0.47448359]\n",
      " [0.         0.3651518  0.3651518  0.5787519  0.         0.\n",
      "  0.         0.         0.        ]\n",
      " [0.         0.47448359 0.         0.         0.47448359 0.\n",
      "  0.         0.         0.        ]\n",
      " [0.         0.         0.         0.         0.         0.34657359\n",
      "  0.34657359 0.34657359 0.        ]\n",
      " [0.         0.34657359 0.34657359 0.         0.34657359 0.\n",
      "  0.         0.         0.        ]]\n"
     ]
    },
    {
     "name": "stderr",
     "output_type": "stream",
     "text": [
      "/Software/users/modules/7/software/anaconda3/5.3.0/lib/python3.7/site-packages/ipykernel_launcher.py:5: RuntimeWarning: divide by zero encountered in log\n",
      "  \"\"\"\n",
      "/Software/users/modules/7/software/anaconda3/5.3.0/lib/python3.7/site-packages/ipykernel_launcher.py:5: RuntimeWarning: invalid value encountered in multiply\n",
      "  \"\"\"\n"
     ]
    }
   ],
   "source": [
    "def le(f):\n",
    "    \"\"\"Applies log-entropy weighting.\"\"\"\n",
    "    n = np.shape(f)[1]                              # number of documents\n",
    "    p = f / np.sum(f, axis=1)[:, np.newaxis]        # proportion of term frequency in document vs total\n",
    "    s = np.nan_to_num(p * np.log(p) / np.log(n))    # terms within sum\n",
    "    s = np.sum(s, axis=1)[:, np.newaxis]            # take sum and reshape\n",
    "    return np.log(1 + f) * (1 + s)\n",
    "\n",
    "print('Using LE:\\n\\n', le(tf_mat))"
   ]
  }
 ],
 "metadata": {
  "kernelspec": {
   "display_name": "Python 3",
   "language": "python",
   "name": "python3"
  },
  "language_info": {
   "codemirror_mode": {
    "name": "ipython",
    "version": 3
   },
   "file_extension": ".py",
   "mimetype": "text/x-python",
   "name": "python",
   "nbconvert_exporter": "python",
   "pygments_lexer": "ipython3",
   "version": "3.7.2"
  }
 },
 "nbformat": 4,
 "nbformat_minor": 2
}
